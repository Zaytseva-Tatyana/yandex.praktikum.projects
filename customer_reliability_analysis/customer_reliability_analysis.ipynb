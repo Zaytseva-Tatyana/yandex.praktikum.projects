{
 "cells": [
  {
   "cell_type": "markdown",
   "metadata": {},
   "source": [
    "### Шаг 1. Загрузка и просмотр данных. "
   ]
  },
  {
   "cell_type": "code",
   "execution_count": 1,
   "metadata": {
    "scrolled": true
   },
   "outputs": [
    {
     "data": {
      "text/html": [
       "<div>\n",
       "<style scoped>\n",
       "    .dataframe tbody tr th:only-of-type {\n",
       "        vertical-align: middle;\n",
       "    }\n",
       "\n",
       "    .dataframe tbody tr th {\n",
       "        vertical-align: top;\n",
       "    }\n",
       "\n",
       "    .dataframe thead th {\n",
       "        text-align: right;\n",
       "    }\n",
       "</style>\n",
       "<table border=\"1\" class=\"dataframe\">\n",
       "  <thead>\n",
       "    <tr style=\"text-align: right;\">\n",
       "      <th></th>\n",
       "      <th>children</th>\n",
       "      <th>days_employed</th>\n",
       "      <th>dob_years</th>\n",
       "      <th>education</th>\n",
       "      <th>education_id</th>\n",
       "      <th>family_status</th>\n",
       "      <th>family_status_id</th>\n",
       "      <th>gender</th>\n",
       "      <th>income_type</th>\n",
       "      <th>debt</th>\n",
       "      <th>total_income</th>\n",
       "      <th>purpose</th>\n",
       "    </tr>\n",
       "  </thead>\n",
       "  <tbody>\n",
       "    <tr>\n",
       "      <td>0</td>\n",
       "      <td>1</td>\n",
       "      <td>-8437.673028</td>\n",
       "      <td>42</td>\n",
       "      <td>высшее</td>\n",
       "      <td>0</td>\n",
       "      <td>женат / замужем</td>\n",
       "      <td>0</td>\n",
       "      <td>F</td>\n",
       "      <td>сотрудник</td>\n",
       "      <td>0</td>\n",
       "      <td>253875.639453</td>\n",
       "      <td>покупка жилья</td>\n",
       "    </tr>\n",
       "    <tr>\n",
       "      <td>1</td>\n",
       "      <td>1</td>\n",
       "      <td>-4024.803754</td>\n",
       "      <td>36</td>\n",
       "      <td>среднее</td>\n",
       "      <td>1</td>\n",
       "      <td>женат / замужем</td>\n",
       "      <td>0</td>\n",
       "      <td>F</td>\n",
       "      <td>сотрудник</td>\n",
       "      <td>0</td>\n",
       "      <td>112080.014102</td>\n",
       "      <td>приобретение автомобиля</td>\n",
       "    </tr>\n",
       "    <tr>\n",
       "      <td>2</td>\n",
       "      <td>0</td>\n",
       "      <td>-5623.422610</td>\n",
       "      <td>33</td>\n",
       "      <td>Среднее</td>\n",
       "      <td>1</td>\n",
       "      <td>женат / замужем</td>\n",
       "      <td>0</td>\n",
       "      <td>M</td>\n",
       "      <td>сотрудник</td>\n",
       "      <td>0</td>\n",
       "      <td>145885.952297</td>\n",
       "      <td>покупка жилья</td>\n",
       "    </tr>\n",
       "    <tr>\n",
       "      <td>3</td>\n",
       "      <td>3</td>\n",
       "      <td>-4124.747207</td>\n",
       "      <td>32</td>\n",
       "      <td>среднее</td>\n",
       "      <td>1</td>\n",
       "      <td>женат / замужем</td>\n",
       "      <td>0</td>\n",
       "      <td>M</td>\n",
       "      <td>сотрудник</td>\n",
       "      <td>0</td>\n",
       "      <td>267628.550329</td>\n",
       "      <td>дополнительное образование</td>\n",
       "    </tr>\n",
       "    <tr>\n",
       "      <td>4</td>\n",
       "      <td>0</td>\n",
       "      <td>340266.072047</td>\n",
       "      <td>53</td>\n",
       "      <td>среднее</td>\n",
       "      <td>1</td>\n",
       "      <td>гражданский брак</td>\n",
       "      <td>1</td>\n",
       "      <td>F</td>\n",
       "      <td>пенсионер</td>\n",
       "      <td>0</td>\n",
       "      <td>158616.077870</td>\n",
       "      <td>сыграть свадьбу</td>\n",
       "    </tr>\n",
       "    <tr>\n",
       "      <td>5</td>\n",
       "      <td>0</td>\n",
       "      <td>-926.185831</td>\n",
       "      <td>27</td>\n",
       "      <td>высшее</td>\n",
       "      <td>0</td>\n",
       "      <td>гражданский брак</td>\n",
       "      <td>1</td>\n",
       "      <td>M</td>\n",
       "      <td>компаньон</td>\n",
       "      <td>0</td>\n",
       "      <td>255763.565419</td>\n",
       "      <td>покупка жилья</td>\n",
       "    </tr>\n",
       "    <tr>\n",
       "      <td>6</td>\n",
       "      <td>0</td>\n",
       "      <td>-2879.202052</td>\n",
       "      <td>43</td>\n",
       "      <td>высшее</td>\n",
       "      <td>0</td>\n",
       "      <td>женат / замужем</td>\n",
       "      <td>0</td>\n",
       "      <td>F</td>\n",
       "      <td>компаньон</td>\n",
       "      <td>0</td>\n",
       "      <td>240525.971920</td>\n",
       "      <td>операции с жильем</td>\n",
       "    </tr>\n",
       "    <tr>\n",
       "      <td>7</td>\n",
       "      <td>0</td>\n",
       "      <td>-152.779569</td>\n",
       "      <td>50</td>\n",
       "      <td>СРЕДНЕЕ</td>\n",
       "      <td>1</td>\n",
       "      <td>женат / замужем</td>\n",
       "      <td>0</td>\n",
       "      <td>M</td>\n",
       "      <td>сотрудник</td>\n",
       "      <td>0</td>\n",
       "      <td>135823.934197</td>\n",
       "      <td>образование</td>\n",
       "    </tr>\n",
       "    <tr>\n",
       "      <td>8</td>\n",
       "      <td>2</td>\n",
       "      <td>-6929.865299</td>\n",
       "      <td>35</td>\n",
       "      <td>ВЫСШЕЕ</td>\n",
       "      <td>0</td>\n",
       "      <td>гражданский брак</td>\n",
       "      <td>1</td>\n",
       "      <td>F</td>\n",
       "      <td>сотрудник</td>\n",
       "      <td>0</td>\n",
       "      <td>95856.832424</td>\n",
       "      <td>на проведение свадьбы</td>\n",
       "    </tr>\n",
       "    <tr>\n",
       "      <td>9</td>\n",
       "      <td>0</td>\n",
       "      <td>-2188.756445</td>\n",
       "      <td>41</td>\n",
       "      <td>среднее</td>\n",
       "      <td>1</td>\n",
       "      <td>женат / замужем</td>\n",
       "      <td>0</td>\n",
       "      <td>M</td>\n",
       "      <td>сотрудник</td>\n",
       "      <td>0</td>\n",
       "      <td>144425.938277</td>\n",
       "      <td>покупка жилья для семьи</td>\n",
       "    </tr>\n",
       "  </tbody>\n",
       "</table>\n",
       "</div>"
      ],
      "text/plain": [
       "   children  days_employed  dob_years education  education_id  \\\n",
       "0         1   -8437.673028         42    высшее             0   \n",
       "1         1   -4024.803754         36   среднее             1   \n",
       "2         0   -5623.422610         33   Среднее             1   \n",
       "3         3   -4124.747207         32   среднее             1   \n",
       "4         0  340266.072047         53   среднее             1   \n",
       "5         0    -926.185831         27    высшее             0   \n",
       "6         0   -2879.202052         43    высшее             0   \n",
       "7         0    -152.779569         50   СРЕДНЕЕ             1   \n",
       "8         2   -6929.865299         35    ВЫСШЕЕ             0   \n",
       "9         0   -2188.756445         41   среднее             1   \n",
       "\n",
       "      family_status  family_status_id gender income_type  debt   total_income  \\\n",
       "0   женат / замужем                 0      F   сотрудник     0  253875.639453   \n",
       "1   женат / замужем                 0      F   сотрудник     0  112080.014102   \n",
       "2   женат / замужем                 0      M   сотрудник     0  145885.952297   \n",
       "3   женат / замужем                 0      M   сотрудник     0  267628.550329   \n",
       "4  гражданский брак                 1      F   пенсионер     0  158616.077870   \n",
       "5  гражданский брак                 1      M   компаньон     0  255763.565419   \n",
       "6   женат / замужем                 0      F   компаньон     0  240525.971920   \n",
       "7   женат / замужем                 0      M   сотрудник     0  135823.934197   \n",
       "8  гражданский брак                 1      F   сотрудник     0   95856.832424   \n",
       "9   женат / замужем                 0      M   сотрудник     0  144425.938277   \n",
       "\n",
       "                      purpose  \n",
       "0               покупка жилья  \n",
       "1     приобретение автомобиля  \n",
       "2               покупка жилья  \n",
       "3  дополнительное образование  \n",
       "4             сыграть свадьбу  \n",
       "5               покупка жилья  \n",
       "6           операции с жильем  \n",
       "7                 образование  \n",
       "8       на проведение свадьбы  \n",
       "9     покупка жилья для семьи  "
      ]
     },
     "execution_count": 1,
     "metadata": {},
     "output_type": "execute_result"
    }
   ],
   "source": [
    "import pandas as pd #импорт библиотеки pandas\n",
    "\n",
    "df = pd.read_csv('/datasets/data.csv') # чтение файла csv и запись его в структуру Датафрейм\n",
    "df.head(10) # вывод первых 10 строк датафрейма"
   ]
  },
  {
   "cell_type": "code",
   "execution_count": 2,
   "metadata": {},
   "outputs": [
    {
     "name": "stdout",
     "output_type": "stream",
     "text": [
      "<class 'pandas.core.frame.DataFrame'>\n",
      "RangeIndex: 21525 entries, 0 to 21524\n",
      "Data columns (total 12 columns):\n",
      "children            21525 non-null int64\n",
      "days_employed       19351 non-null float64\n",
      "dob_years           21525 non-null int64\n",
      "education           21525 non-null object\n",
      "education_id        21525 non-null int64\n",
      "family_status       21525 non-null object\n",
      "family_status_id    21525 non-null int64\n",
      "gender              21525 non-null object\n",
      "income_type         21525 non-null object\n",
      "debt                21525 non-null int64\n",
      "total_income        19351 non-null float64\n",
      "purpose             21525 non-null object\n",
      "dtypes: float64(2), int64(5), object(5)\n",
      "memory usage: 2.0+ MB\n"
     ]
    }
   ],
   "source": [
    "df.info() #общая информация о датафрейме"
   ]
  },
  {
   "cell_type": "code",
   "execution_count": 3,
   "metadata": {},
   "outputs": [
    {
     "data": {
      "text/plain": [
       "0    101\n",
       "Name: dob_years, dtype: int64"
      ]
     },
     "execution_count": 3,
     "metadata": {},
     "output_type": "execute_result"
    }
   ],
   "source": [
    "df[df['dob_years']< 18]['dob_years'].value_counts() # поиск заемщиков младше 18 лет"
   ]
  },
  {
   "cell_type": "code",
   "execution_count": 4,
   "metadata": {},
   "outputs": [
    {
     "name": "stdout",
     "output_type": "stream",
     "text": [
      "<class 'pandas.core.frame.DataFrame'>\n",
      "Int64Index: 2174 entries, 12 to 21510\n",
      "Data columns (total 12 columns):\n",
      "children            2174 non-null int64\n",
      "days_employed       0 non-null float64\n",
      "dob_years           2174 non-null int64\n",
      "education           2174 non-null object\n",
      "education_id        2174 non-null int64\n",
      "family_status       2174 non-null object\n",
      "family_status_id    2174 non-null int64\n",
      "gender              2174 non-null object\n",
      "income_type         2174 non-null object\n",
      "debt                2174 non-null int64\n",
      "total_income        0 non-null float64\n",
      "purpose             2174 non-null object\n",
      "dtypes: float64(2), int64(5), object(5)\n",
      "memory usage: 220.8+ KB\n"
     ]
    }
   ],
   "source": [
    "df[df['total_income'].isna() == True].info() # вывод общей информации о срезе данных с пропущенной информацией о доходах"
   ]
  },
  {
   "cell_type": "code",
   "execution_count": 5,
   "metadata": {},
   "outputs": [
    {
     "data": {
      "text/plain": [
       "F      14236\n",
       "M       7288\n",
       "XNA        1\n",
       "Name: gender, dtype: int64"
      ]
     },
     "execution_count": 5,
     "metadata": {},
     "output_type": "execute_result"
    }
   ],
   "source": [
    "df['gender'].value_counts() # поиск аномальных значений или ошибок в поле заемщика"
   ]
  },
  {
   "cell_type": "code",
   "execution_count": 6,
   "metadata": {},
   "outputs": [
    {
     "data": {
      "text/plain": [
       " 0     14149\n",
       " 1      4818\n",
       " 2      2055\n",
       " 3       330\n",
       " 20       76\n",
       "-1        47\n",
       " 4        41\n",
       " 5         9\n",
       "Name: children, dtype: int64"
      ]
     },
     "execution_count": 6,
     "metadata": {},
     "output_type": "execute_result"
    }
   ],
   "source": [
    "df['children'].value_counts() # поиск аномальных значений или ошибок в информации о количестве детей заемщика\n",
    "#df[df['children']==20]"
   ]
  },
  {
   "cell_type": "markdown",
   "metadata": {},
   "source": [
    "### Вывод"
   ]
  },
  {
   "cell_type": "markdown",
   "metadata": {},
   "source": [
    "\n",
    "В таблице из набора данных вместо трудового стажа и ежемесячного дохода встречается значение NaN. Возможно это связано с тем, что заемщик не предоставил банку документы с места работы или имел место технический сбой.\n",
    "\n",
    "Так же в данных о стаже работы встречаются отрицательные и аномально большие значения, а в возрасте значения 0. Такие данные могли получиться из-за технических сбоев при выгрузке или особенностях расчета: \n",
    "- аномально большое значение является стажем работы в часах, а не в днях;\n",
    "- отрицательное значение - расчет стажа относительно текущей даты.\n",
    "\n",
    "Т.к. эти данные не предполагается анализировать в рамках запроса от Заказчика, оставим их в первоначальном виде.\n",
    "\n",
    "В данных о поле клиента встречается значение 'XNA', но т.к. анализ зависимости между полом клиента и возвратом кредита в срок не предполагается, а такие данные, как количество детей, семейное положение, уровень дохода и цель кредита заполнены, то отсутствием значения о поле клиента можно пренебречь и не удалять из набора данных.\n",
    "\n",
    "В информации о количестве детей встречается значение -1 и 20. Вероятно, это ошибка. Т.к. эти данные составляют всего 0.5%, то их можно удалить без искажения статистики.\n"
   ]
  },
  {
   "cell_type": "markdown",
   "metadata": {},
   "source": [
    "### Шаг 2. Предобработка данных"
   ]
  },
  {
   "cell_type": "markdown",
   "metadata": {},
   "source": [
    "### Обработка пропусков"
   ]
  },
  {
   "cell_type": "code",
   "execution_count": 7,
   "metadata": {},
   "outputs": [
    {
     "data": {
      "text/html": [
       "<div>\n",
       "<style scoped>\n",
       "    .dataframe tbody tr th:only-of-type {\n",
       "        vertical-align: middle;\n",
       "    }\n",
       "\n",
       "    .dataframe tbody tr th {\n",
       "        vertical-align: top;\n",
       "    }\n",
       "\n",
       "    .dataframe thead th {\n",
       "        text-align: right;\n",
       "    }\n",
       "</style>\n",
       "<table border=\"1\" class=\"dataframe\">\n",
       "  <thead>\n",
       "    <tr style=\"text-align: right;\">\n",
       "      <th></th>\n",
       "      <th>income_type</th>\n",
       "      <th>mean</th>\n",
       "      <th>median</th>\n",
       "    </tr>\n",
       "  </thead>\n",
       "  <tbody>\n",
       "    <tr>\n",
       "      <td>0</td>\n",
       "      <td>сотрудник</td>\n",
       "      <td>161380.260488</td>\n",
       "      <td>142594.396847</td>\n",
       "    </tr>\n",
       "    <tr>\n",
       "      <td>1</td>\n",
       "      <td>компаньон</td>\n",
       "      <td>202417.461462</td>\n",
       "      <td>172357.950966</td>\n",
       "    </tr>\n",
       "    <tr>\n",
       "      <td>2</td>\n",
       "      <td>пенсионер</td>\n",
       "      <td>137127.465690</td>\n",
       "      <td>118514.486412</td>\n",
       "    </tr>\n",
       "    <tr>\n",
       "      <td>3</td>\n",
       "      <td>госслужащий</td>\n",
       "      <td>170898.309923</td>\n",
       "      <td>150447.935283</td>\n",
       "    </tr>\n",
       "    <tr>\n",
       "      <td>4</td>\n",
       "      <td>предприниматель</td>\n",
       "      <td>499163.144947</td>\n",
       "      <td>499163.144947</td>\n",
       "    </tr>\n",
       "  </tbody>\n",
       "</table>\n",
       "</div>"
      ],
      "text/plain": [
       "       income_type           mean         median\n",
       "0        сотрудник  161380.260488  142594.396847\n",
       "1        компаньон  202417.461462  172357.950966\n",
       "2        пенсионер  137127.465690  118514.486412\n",
       "3      госслужащий  170898.309923  150447.935283\n",
       "4  предприниматель  499163.144947  499163.144947"
      ]
     },
     "execution_count": 7,
     "metadata": {},
     "output_type": "execute_result"
    }
   ],
   "source": [
    "# нахождение среднего значения и медианы для каждого типа занятости \n",
    "median_employee = df[df['income_type']=='сотрудник']['total_income'].median() \n",
    "mean_employee = df[df['income_type']=='сотрудник']['total_income'].mean()\n",
    "median_companion = df[df['income_type']=='компаньон']['total_income'].median()\n",
    "mean_companion = df[df['income_type']=='компаньон']['total_income'].mean()\n",
    "median_pensioner = df[df['income_type']=='пенсионер']['total_income'].median()\n",
    "mean_pensioner = df[df['income_type']=='пенсионер']['total_income'].mean()\n",
    "median_state = df[df['income_type']=='госслужащий']['total_income'].median()\n",
    "mean_state = df[df['income_type']=='госслужащий']['total_income'].mean()\n",
    "median_businessman = df[df['income_type']=='предприниматель']['total_income'].median()\n",
    "mean_businessman = df[df['income_type']=='предприниматель']['total_income'].mean()\n",
    "\n",
    "data = [['сотрудник', mean_employee, median_employee],\n",
    "       ['компаньон', mean_companion, median_companion],\n",
    "       ['пенсионер', mean_pensioner, median_pensioner],\n",
    "       ['госслужащий', mean_state, median_state],\n",
    "       ['предприниматель', mean_businessman, median_businessman]]\n",
    "columns = ['income_type', 'mean', 'median']\n",
    "\n",
    "income_research = pd.DataFrame(data=data, columns=columns) # вывод данных о среднем и медиане в таблицу\n",
    "income_research"
   ]
  },
  {
   "cell_type": "code",
   "execution_count": 8,
   "metadata": {},
   "outputs": [
    {
     "name": "stdout",
     "output_type": "stream",
     "text": [
      "<class 'pandas.core.frame.DataFrame'>\n",
      "RangeIndex: 21525 entries, 0 to 21524\n",
      "Data columns (total 12 columns):\n",
      "children            21525 non-null int64\n",
      "days_employed       19351 non-null float64\n",
      "dob_years           21525 non-null int64\n",
      "education           21525 non-null object\n",
      "education_id        21525 non-null int64\n",
      "family_status       21525 non-null object\n",
      "family_status_id    21525 non-null int64\n",
      "gender              21525 non-null object\n",
      "income_type         21525 non-null object\n",
      "debt                21525 non-null int64\n",
      "total_income        21525 non-null float64\n",
      "purpose             21525 non-null object\n",
      "dtypes: float64(2), int64(5), object(5)\n",
      "memory usage: 2.0+ MB\n"
     ]
    }
   ],
   "source": [
    "# замена пропущенных значений о доходах медианой в зависимости от типа занятости\n",
    "df.loc[(df['total_income'].isna()==True)&(df['income_type']=='сотрудник'), 'total_income'] = median_employee \n",
    "df.loc[(df['total_income'].isna()==True)&(df['income_type']=='компаньон'), 'total_income'] = median_companion\n",
    "df.loc[(df['total_income'].isna()==True)&(df['income_type']=='пенсионер'), 'total_income'] = median_pensioner\n",
    "df.loc[(df['total_income'].isna()==True)&(df['income_type']=='госслужащий'), 'total_income'] = median_state\n",
    "df.loc[(df['total_income'].isna()==True)&(df['income_type']=='предприниматель'), 'total_income'] = median_businessman\n",
    "df.info()"
   ]
  },
  {
   "cell_type": "code",
   "execution_count": 9,
   "metadata": {},
   "outputs": [
    {
     "name": "stdout",
     "output_type": "stream",
     "text": [
      "<class 'pandas.core.frame.DataFrame'>\n",
      "Int64Index: 21402 entries, 0 to 21524\n",
      "Data columns (total 12 columns):\n",
      "children            21402 non-null float64\n",
      "days_employed       19240 non-null float64\n",
      "dob_years           21402 non-null int64\n",
      "education           21402 non-null object\n",
      "education_id        21402 non-null int64\n",
      "family_status       21402 non-null object\n",
      "family_status_id    21402 non-null int64\n",
      "gender              21402 non-null object\n",
      "income_type         21402 non-null object\n",
      "debt                21402 non-null int64\n",
      "total_income        21402 non-null float64\n",
      "purpose             21402 non-null object\n",
      "dtypes: float64(3), int64(4), object(5)\n",
      "memory usage: 2.1+ MB\n"
     ]
    }
   ],
   "source": [
    "# удаление срок, в которых содержатся ошибочные данные о наличии детей\n",
    "df.loc[df['children']==-1, 'children'] = None\n",
    "df.loc[df['children']==20, 'children'] = None\n",
    "df.dropna(subset=['children'], inplace=True)\n",
    "df.info()"
   ]
  },
  {
   "cell_type": "code",
   "execution_count": 10,
   "metadata": {},
   "outputs": [
    {
     "name": "stdout",
     "output_type": "stream",
     "text": [
      "<class 'pandas.core.frame.DataFrame'>\n",
      "Int64Index: 21402 entries, 0 to 21524\n",
      "Data columns (total 12 columns):\n",
      "children            21402 non-null int64\n",
      "days_employed       19240 non-null float64\n",
      "dob_years           21402 non-null int64\n",
      "education           21402 non-null object\n",
      "education_id        21402 non-null int64\n",
      "family_status       21402 non-null object\n",
      "family_status_id    21402 non-null int64\n",
      "gender              21402 non-null object\n",
      "income_type         21402 non-null object\n",
      "debt                21402 non-null int64\n",
      "total_income        21402 non-null float64\n",
      "purpose             21402 non-null object\n",
      "dtypes: float64(2), int64(5), object(5)\n",
      "memory usage: 2.1+ MB\n"
     ]
    }
   ],
   "source": [
    "df['children'] = df['children'].astype('int') # возвращение столбцу children типа данных int\n",
    "df.info()"
   ]
  },
  {
   "cell_type": "markdown",
   "metadata": {},
   "source": [
    "### Вывод"
   ]
  },
  {
   "cell_type": "markdown",
   "metadata": {},
   "source": [
    "Нам предстоит проанализировать зависимость между уровнем дохода и возвратом кредита в срок, поэтому необходимо заполнить значения NaN в поле 'total_income'. Т.к. уровень дохода напрямую зависит от типа занятости, а среднее и медианное отличаются значительно, то отсутствующие значения заменены медианным значением каждого из типов занятости.\n",
    "\n",
    "Так же удалены строки с ошибочными данными о наличии детей.\n"
   ]
  },
  {
   "cell_type": "markdown",
   "metadata": {},
   "source": [
    "### Замена типа данных"
   ]
  },
  {
   "cell_type": "code",
   "execution_count": 11,
   "metadata": {},
   "outputs": [
    {
     "name": "stdout",
     "output_type": "stream",
     "text": [
      "<class 'pandas.core.frame.DataFrame'>\n",
      "Int64Index: 21402 entries, 0 to 21524\n",
      "Data columns (total 12 columns):\n",
      "children            21402 non-null int64\n",
      "days_employed       21402 non-null int64\n",
      "dob_years           21402 non-null int64\n",
      "education           21402 non-null object\n",
      "education_id        21402 non-null int64\n",
      "family_status       21402 non-null object\n",
      "family_status_id    21402 non-null int64\n",
      "gender              21402 non-null object\n",
      "income_type         21402 non-null object\n",
      "debt                21402 non-null int64\n",
      "total_income        21402 non-null int64\n",
      "purpose             21402 non-null object\n",
      "dtypes: int64(7), object(5)\n",
      "memory usage: 2.1+ MB\n"
     ]
    }
   ],
   "source": [
    "df['total_income'] = df['total_income'].astype('int')\n",
    "df['days_employed'] = df['days_employed'].fillna(df.groupby('income_type')['days_employed'].transform('median')).astype('int')\n",
    "df.info()"
   ]
  },
  {
   "cell_type": "markdown",
   "metadata": {},
   "source": [
    "### Вывод"
   ]
  },
  {
   "cell_type": "markdown",
   "metadata": {},
   "source": [
    "Для изменения типа данных был выбран метод astype, т.к. исходный тип данных float и данные не имели некорректных значений."
   ]
  },
  {
   "cell_type": "markdown",
   "metadata": {},
   "source": [
    "### Обработка дубликатов"
   ]
  },
  {
   "cell_type": "code",
   "execution_count": 12,
   "metadata": {},
   "outputs": [
    {
     "data": {
      "text/plain": [
       "71"
      ]
     },
     "execution_count": 12,
     "metadata": {},
     "output_type": "execute_result"
    }
   ],
   "source": [
    "df['education'] = df['education'].str.lower() # приведение данных об образовании к нижнему регистру\n",
    "df.duplicated().sum() # подсчет количества дубликатов"
   ]
  },
  {
   "cell_type": "code",
   "execution_count": 13,
   "metadata": {},
   "outputs": [
    {
     "name": "stdout",
     "output_type": "stream",
     "text": [
      "<class 'pandas.core.frame.DataFrame'>\n",
      "RangeIndex: 21331 entries, 0 to 21330\n",
      "Data columns (total 12 columns):\n",
      "children            21331 non-null int64\n",
      "days_employed       21331 non-null int64\n",
      "dob_years           21331 non-null int64\n",
      "education           21331 non-null object\n",
      "education_id        21331 non-null int64\n",
      "family_status       21331 non-null object\n",
      "family_status_id    21331 non-null int64\n",
      "gender              21331 non-null object\n",
      "income_type         21331 non-null object\n",
      "debt                21331 non-null int64\n",
      "total_income        21331 non-null int64\n",
      "purpose             21331 non-null object\n",
      "dtypes: int64(7), object(5)\n",
      "memory usage: 2.0+ MB\n"
     ]
    }
   ],
   "source": [
    "df = df.drop_duplicates().reset_index(drop=True) # удаление дубликатов \n",
    "df.info()"
   ]
  },
  {
   "cell_type": "markdown",
   "metadata": {},
   "source": [
    "### Вывод"
   ]
  },
  {
   "cell_type": "markdown",
   "metadata": {},
   "source": [
    "В наборе данных обнаружен 71 дубликат. Для их удаления выбран метод drop_duplicates() совместно с методом reset_index(), чтобы обновить индексацию после удаления дубликатов. Аргумент drop=True указывает, что включать столбец со старыми индексами в новый датафрейм не нужно.\n",
    "Появление дубликатов может быть связано с техническим сбоем во время записи или выгрузки данных, или возникнуть при консолидации данных из разных источников."
   ]
  },
  {
   "cell_type": "markdown",
   "metadata": {},
   "source": [
    "### Лемматизация"
   ]
  },
  {
   "cell_type": "code",
   "execution_count": 14,
   "metadata": {},
   "outputs": [
    {
     "data": {
      "text/plain": [
       "array(['покупка жилья', 'приобретение автомобиля',\n",
       "       'дополнительное образование', 'сыграть свадьбу',\n",
       "       'операции с жильем', 'образование', 'на проведение свадьбы',\n",
       "       'покупка жилья для семьи', 'покупка недвижимости',\n",
       "       'покупка коммерческой недвижимости', 'покупка жилой недвижимости',\n",
       "       'строительство собственной недвижимости', 'недвижимость',\n",
       "       'строительство недвижимости', 'на покупку подержанного автомобиля',\n",
       "       'на покупку своего автомобиля',\n",
       "       'операции с коммерческой недвижимостью',\n",
       "       'строительство жилой недвижимости', 'жилье',\n",
       "       'операции со своей недвижимостью', 'автомобили',\n",
       "       'заняться образованием', 'сделка с подержанным автомобилем',\n",
       "       'получение образования', 'автомобиль', 'свадьба',\n",
       "       'получение дополнительного образования', 'покупка своего жилья',\n",
       "       'операции с недвижимостью', 'получение высшего образования',\n",
       "       'свой автомобиль', 'сделка с автомобилем',\n",
       "       'профильное образование', 'высшее образование',\n",
       "       'покупка жилья для сдачи', 'на покупку автомобиля', 'ремонт жилью',\n",
       "       'заняться высшим образованием'], dtype=object)"
      ]
     },
     "execution_count": 14,
     "metadata": {},
     "output_type": "execute_result"
    }
   ],
   "source": [
    "df['purpose'].unique() # вывод списка уникальных значений целей кредита"
   ]
  },
  {
   "cell_type": "code",
   "execution_count": 15,
   "metadata": {},
   "outputs": [],
   "source": [
    "from pymystem3 import Mystem # импорт библиотеки Mystem для лемматизации\n",
    "m = Mystem()\n",
    "\n",
    "def change_purpose(purpose): # функция для приведения целей кредита к единообразности\n",
    "    if 'коммерческий' in m.lemmatize(purpose['purpose']):\n",
    "        return 'покупка или реконструкция коммерческой недвижимости'\n",
    "    if 'ремонт'  in m.lemmatize(purpose['purpose']) and 'жилье' in m.lemmatize(purpose['purpose']):\n",
    "        return 'ремонт жилья'\n",
    "    if 'недвижимость' in m.lemmatize(purpose['purpose']):\n",
    "        return 'покупка или строительство жилой недвижимости'\n",
    "    if 'жилье' in m.lemmatize(purpose['purpose']):\n",
    "        return 'покупка или строительство жилой недвижимости'\n",
    "    if 'автомобиль' in m.lemmatize(purpose['purpose']):\n",
    "        return 'покупка автомобиля'\n",
    "    if 'образование' in m.lemmatize(purpose['purpose']):\n",
    "        return 'получение образования'\n",
    "    if 'свадьба' in m.lemmatize(purpose['purpose']):\n",
    "        return 'свадьба' \n",
    "    \n",
    "df['purpose'] = df.apply(change_purpose, axis=1)"
   ]
  },
  {
   "cell_type": "code",
   "execution_count": 16,
   "metadata": {},
   "outputs": [
    {
     "data": {
      "text/plain": [
       "array(['покупка или строительство жилой недвижимости',\n",
       "       'покупка автомобиля', 'получение образования', 'свадьба',\n",
       "       'покупка или реконструкция коммерческой недвижимости',\n",
       "       'ремонт жилья'], dtype=object)"
      ]
     },
     "execution_count": 16,
     "metadata": {},
     "output_type": "execute_result"
    }
   ],
   "source": [
    "df['purpose'].unique()"
   ]
  },
  {
   "cell_type": "markdown",
   "metadata": {},
   "source": [
    "### Вывод"
   ]
  },
  {
   "cell_type": "markdown",
   "metadata": {},
   "source": [
    "Цели получения кредита сведены к следующему списку:\n",
    "- покупка или строительство жилой недвижимости\n",
    "- покупка или реконструкция коммерческой недвижимости\n",
    "- ремонт жилья\n",
    "- покупка автомобиля\n",
    "- получение образования\n",
    "- свадьба\n",
    "\n",
    "Это сделано с помощью функции change_purpose, которая получает на вход датафрейм, лемматизирует столбец purpose и в зависимости от выполненного условия возвращает новое значение. Таким образом, \n",
    "- если \"коммерческий\" входит в список лемм, то новая цель получения кредита \"покупка или реконструкция коммерческой недвижимости\"\n",
    "- если \"ремонт\" и \"жилье\" входит в список лемм, то новая цель получения кредита \"ремонт жилья\"\n",
    "- если \"недвижимость\" или \"жилье\" входит в список лемм, то новая цель получения кредита \"покупка или строительство жилой недвижимости\"\n",
    "- если \"автомобиль\" входит в список лемм, то новая цель получения кредита \"покупка автомобиля\"\n",
    "- если \"образование\" входит в список лемм, то новая цель получения кредита \"получение образования\"\n",
    "- если \"свадьба\" входит в список лемм, то новая цель получения кредита \"свадьба\"\n",
    "\n",
    "Порядок важен!"
   ]
  },
  {
   "cell_type": "markdown",
   "metadata": {},
   "source": [
    "### Категоризация данных"
   ]
  },
  {
   "cell_type": "code",
   "execution_count": 17,
   "metadata": {},
   "outputs": [
    {
     "data": {
      "text/html": [
       "<div>\n",
       "<style scoped>\n",
       "    .dataframe tbody tr th:only-of-type {\n",
       "        vertical-align: middle;\n",
       "    }\n",
       "\n",
       "    .dataframe tbody tr th {\n",
       "        vertical-align: top;\n",
       "    }\n",
       "\n",
       "    .dataframe thead th {\n",
       "        text-align: right;\n",
       "    }\n",
       "</style>\n",
       "<table border=\"1\" class=\"dataframe\">\n",
       "  <thead>\n",
       "    <tr style=\"text-align: right;\">\n",
       "      <th></th>\n",
       "      <th>family_status_id</th>\n",
       "      <th>family_status</th>\n",
       "    </tr>\n",
       "  </thead>\n",
       "  <tbody>\n",
       "    <tr>\n",
       "      <td>0</td>\n",
       "      <td>0</td>\n",
       "      <td>женат / замужем</td>\n",
       "    </tr>\n",
       "    <tr>\n",
       "      <td>1</td>\n",
       "      <td>1</td>\n",
       "      <td>гражданский брак</td>\n",
       "    </tr>\n",
       "    <tr>\n",
       "      <td>2</td>\n",
       "      <td>2</td>\n",
       "      <td>вдовец / вдова</td>\n",
       "    </tr>\n",
       "    <tr>\n",
       "      <td>3</td>\n",
       "      <td>3</td>\n",
       "      <td>в разводе</td>\n",
       "    </tr>\n",
       "    <tr>\n",
       "      <td>4</td>\n",
       "      <td>4</td>\n",
       "      <td>Не женат / не замужем</td>\n",
       "    </tr>\n",
       "  </tbody>\n",
       "</table>\n",
       "</div>"
      ],
      "text/plain": [
       "   family_status_id          family_status\n",
       "0                 0        женат / замужем\n",
       "1                 1       гражданский брак\n",
       "2                 2         вдовец / вдова\n",
       "3                 3              в разводе\n",
       "4                 4  Не женат / не замужем"
      ]
     },
     "execution_count": 17,
     "metadata": {},
     "output_type": "execute_result"
    }
   ],
   "source": [
    "# выделение словаря с семейным положением \n",
    "dict_family_status = df[['family_status_id', 'family_status']].drop_duplicates().reset_index(drop=True)\n",
    "dict_family_status"
   ]
  },
  {
   "cell_type": "code",
   "execution_count": 18,
   "metadata": {},
   "outputs": [
    {
     "data": {
      "text/plain": [
       "0.25    107507.0\n",
       "0.50    142594.0\n",
       "0.75    195842.0\n",
       "Name: total_income, dtype: float64"
      ]
     },
     "execution_count": 18,
     "metadata": {},
     "output_type": "execute_result"
    }
   ],
   "source": [
    "df['total_income'].quantile([0.25, 0.5, 0.75]) # нахождение 0.25, 0.5 и 0.75 квантилей уровня дохода"
   ]
  },
  {
   "cell_type": "code",
   "execution_count": 19,
   "metadata": {},
   "outputs": [],
   "source": [
    "#  функция, разделяющая клиентов на группы по уровню дохода в соответствии с найденными квантилями\n",
    "def income_group(data):\n",
    "    if data < 107625:\n",
    "        return 1\n",
    "    if 107623 <= data < 142594:\n",
    "        return 2\n",
    "    if 142594 <= data < 195820:\n",
    "        return 3\n",
    "    if data >= 195820:\n",
    "        return 4\n",
    "        \n",
    "df['income_group'] = df['total_income'].apply(income_group)"
   ]
  },
  {
   "cell_type": "code",
   "execution_count": 20,
   "metadata": {},
   "outputs": [
    {
     "data": {
      "text/html": [
       "<div>\n",
       "<style scoped>\n",
       "    .dataframe tbody tr th:only-of-type {\n",
       "        vertical-align: middle;\n",
       "    }\n",
       "\n",
       "    .dataframe tbody tr th {\n",
       "        vertical-align: top;\n",
       "    }\n",
       "\n",
       "    .dataframe thead th {\n",
       "        text-align: right;\n",
       "    }\n",
       "</style>\n",
       "<table border=\"1\" class=\"dataframe\">\n",
       "  <thead>\n",
       "    <tr style=\"text-align: right;\">\n",
       "      <th></th>\n",
       "      <th>children</th>\n",
       "      <th>family_status_id</th>\n",
       "      <th>purpose</th>\n",
       "      <th>income_group</th>\n",
       "      <th>debt</th>\n",
       "    </tr>\n",
       "  </thead>\n",
       "  <tbody>\n",
       "    <tr>\n",
       "      <td>0</td>\n",
       "      <td>1</td>\n",
       "      <td>0</td>\n",
       "      <td>покупка или строительство жилой недвижимости</td>\n",
       "      <td>4</td>\n",
       "      <td>0</td>\n",
       "    </tr>\n",
       "    <tr>\n",
       "      <td>1</td>\n",
       "      <td>1</td>\n",
       "      <td>0</td>\n",
       "      <td>покупка автомобиля</td>\n",
       "      <td>2</td>\n",
       "      <td>0</td>\n",
       "    </tr>\n",
       "    <tr>\n",
       "      <td>2</td>\n",
       "      <td>0</td>\n",
       "      <td>0</td>\n",
       "      <td>покупка или строительство жилой недвижимости</td>\n",
       "      <td>3</td>\n",
       "      <td>0</td>\n",
       "    </tr>\n",
       "    <tr>\n",
       "      <td>3</td>\n",
       "      <td>3</td>\n",
       "      <td>0</td>\n",
       "      <td>получение образования</td>\n",
       "      <td>4</td>\n",
       "      <td>0</td>\n",
       "    </tr>\n",
       "    <tr>\n",
       "      <td>4</td>\n",
       "      <td>0</td>\n",
       "      <td>1</td>\n",
       "      <td>свадьба</td>\n",
       "      <td>3</td>\n",
       "      <td>0</td>\n",
       "    </tr>\n",
       "    <tr>\n",
       "      <td>...</td>\n",
       "      <td>...</td>\n",
       "      <td>...</td>\n",
       "      <td>...</td>\n",
       "      <td>...</td>\n",
       "      <td>...</td>\n",
       "    </tr>\n",
       "    <tr>\n",
       "      <td>21326</td>\n",
       "      <td>1</td>\n",
       "      <td>1</td>\n",
       "      <td>покупка или строительство жилой недвижимости</td>\n",
       "      <td>4</td>\n",
       "      <td>0</td>\n",
       "    </tr>\n",
       "    <tr>\n",
       "      <td>21327</td>\n",
       "      <td>0</td>\n",
       "      <td>0</td>\n",
       "      <td>покупка автомобиля</td>\n",
       "      <td>3</td>\n",
       "      <td>0</td>\n",
       "    </tr>\n",
       "    <tr>\n",
       "      <td>21328</td>\n",
       "      <td>1</td>\n",
       "      <td>1</td>\n",
       "      <td>покупка или строительство жилой недвижимости</td>\n",
       "      <td>1</td>\n",
       "      <td>1</td>\n",
       "    </tr>\n",
       "    <tr>\n",
       "      <td>21329</td>\n",
       "      <td>3</td>\n",
       "      <td>0</td>\n",
       "      <td>покупка автомобиля</td>\n",
       "      <td>4</td>\n",
       "      <td>1</td>\n",
       "    </tr>\n",
       "    <tr>\n",
       "      <td>21330</td>\n",
       "      <td>2</td>\n",
       "      <td>0</td>\n",
       "      <td>покупка автомобиля</td>\n",
       "      <td>1</td>\n",
       "      <td>0</td>\n",
       "    </tr>\n",
       "  </tbody>\n",
       "</table>\n",
       "<p>21331 rows × 5 columns</p>\n",
       "</div>"
      ],
      "text/plain": [
       "       children  family_status_id  \\\n",
       "0             1                 0   \n",
       "1             1                 0   \n",
       "2             0                 0   \n",
       "3             3                 0   \n",
       "4             0                 1   \n",
       "...         ...               ...   \n",
       "21326         1                 1   \n",
       "21327         0                 0   \n",
       "21328         1                 1   \n",
       "21329         3                 0   \n",
       "21330         2                 0   \n",
       "\n",
       "                                            purpose  income_group  debt  \n",
       "0      покупка или строительство жилой недвижимости             4     0  \n",
       "1                                покупка автомобиля             2     0  \n",
       "2      покупка или строительство жилой недвижимости             3     0  \n",
       "3                             получение образования             4     0  \n",
       "4                                           свадьба             3     0  \n",
       "...                                             ...           ...   ...  \n",
       "21326  покупка или строительство жилой недвижимости             4     0  \n",
       "21327                            покупка автомобиля             3     0  \n",
       "21328  покупка или строительство жилой недвижимости             1     1  \n",
       "21329                            покупка автомобиля             4     1  \n",
       "21330                            покупка автомобиля             1     0  \n",
       "\n",
       "[21331 rows x 5 columns]"
      ]
     },
     "execution_count": 20,
     "metadata": {},
     "output_type": "execute_result"
    }
   ],
   "source": [
    "# формирование датайфрейма для анализа\n",
    "df = df[['children', 'family_status_id', 'purpose', 'income_group', 'debt']]\n",
    "df"
   ]
  },
  {
   "cell_type": "markdown",
   "metadata": {},
   "source": [
    "### Вывод"
   ]
  },
  {
   "cell_type": "markdown",
   "metadata": {},
   "source": [
    "\n",
    "В отдельный словарь выделен список с семейным положением клиентов, т.к. осуществлять группировку по id быстрее, чем по текстовому полю.\n",
    "\n",
    "Так же клиенты разделены на 4 группы по уровню дохода в соответствии с 0.25, 0.5 и 0.75 квантилями.\n",
    "\n",
    "Датафрейм состоит из столбцов, необходимых для ответов на вопросы Закачика (children, family_status_id, purpose, income_group, debt)\n"
   ]
  },
  {
   "cell_type": "markdown",
   "metadata": {},
   "source": [
    "### Шаг 3. Исследование критериев, влияющих на возврат кредита"
   ]
  },
  {
   "cell_type": "markdown",
   "metadata": {},
   "source": [
    "- Есть ли зависимость между наличием детей и возвратом кредита в срок?"
   ]
  },
  {
   "cell_type": "code",
   "execution_count": 21,
   "metadata": {},
   "outputs": [
    {
     "data": {
      "text/html": [
       "<div>\n",
       "<style scoped>\n",
       "    .dataframe tbody tr th:only-of-type {\n",
       "        vertical-align: middle;\n",
       "    }\n",
       "\n",
       "    .dataframe tbody tr th {\n",
       "        vertical-align: top;\n",
       "    }\n",
       "\n",
       "    .dataframe thead th {\n",
       "        text-align: right;\n",
       "    }\n",
       "</style>\n",
       "<table border=\"1\" class=\"dataframe\">\n",
       "  <thead>\n",
       "    <tr style=\"text-align: right;\">\n",
       "      <th></th>\n",
       "      <th>count</th>\n",
       "      <th>sum</th>\n",
       "      <th>ratio</th>\n",
       "    </tr>\n",
       "    <tr>\n",
       "      <th>children</th>\n",
       "      <th></th>\n",
       "      <th></th>\n",
       "      <th></th>\n",
       "    </tr>\n",
       "  </thead>\n",
       "  <tbody>\n",
       "    <tr>\n",
       "      <td>0</td>\n",
       "      <td>14091</td>\n",
       "      <td>1063</td>\n",
       "      <td>7.543822</td>\n",
       "    </tr>\n",
       "    <tr>\n",
       "      <td>1</td>\n",
       "      <td>4808</td>\n",
       "      <td>444</td>\n",
       "      <td>9.234609</td>\n",
       "    </tr>\n",
       "    <tr>\n",
       "      <td>2</td>\n",
       "      <td>2052</td>\n",
       "      <td>194</td>\n",
       "      <td>9.454191</td>\n",
       "    </tr>\n",
       "    <tr>\n",
       "      <td>3</td>\n",
       "      <td>330</td>\n",
       "      <td>27</td>\n",
       "      <td>8.181818</td>\n",
       "    </tr>\n",
       "    <tr>\n",
       "      <td>4</td>\n",
       "      <td>41</td>\n",
       "      <td>4</td>\n",
       "      <td>9.756098</td>\n",
       "    </tr>\n",
       "    <tr>\n",
       "      <td>5</td>\n",
       "      <td>9</td>\n",
       "      <td>0</td>\n",
       "      <td>0.000000</td>\n",
       "    </tr>\n",
       "  </tbody>\n",
       "</table>\n",
       "</div>"
      ],
      "text/plain": [
       "          count   sum     ratio\n",
       "children                       \n",
       "0         14091  1063  7.543822\n",
       "1          4808   444  9.234609\n",
       "2          2052   194  9.454191\n",
       "3           330    27  8.181818\n",
       "4            41     4  9.756098\n",
       "5             9     0  0.000000"
      ]
     },
     "execution_count": 21,
     "metadata": {},
     "output_type": "execute_result"
    }
   ],
   "source": [
    "# подсчет общего кол-ва заемщиков и заемщиков, которые имели задолженность в группировке по количеству детей\n",
    "children_group = df.groupby('children').agg({'debt': ['count', 'sum']}) \n",
    "children_group = pd.DataFrame(children_group['debt']) # изменеие структуры данных на датафрейм\n",
    "children_group['ratio'] = children_group['sum'] / children_group['count'] * 100 # расчет доли заемщиков, которые имели задолженность по кредитам\n",
    "children_group"
   ]
  },
  {
   "cell_type": "markdown",
   "metadata": {},
   "source": [
    "### Вывод"
   ]
  },
  {
   "cell_type": "markdown",
   "metadata": {},
   "source": [
    "Наиболее надежны для банка клиенты, у которых нет детей. Заемщики с тремя детьми находятся в средней группе риска. Возможно, это связано со льготами, которые получают многодетные семьи. В остальных случаях риск возникновения задолженности перед банком выше 9,2%."
   ]
  },
  {
   "cell_type": "markdown",
   "metadata": {},
   "source": [
    "- Есть ли зависимость между семейным положением и возвратом кредита в срок?"
   ]
  },
  {
   "cell_type": "code",
   "execution_count": 23,
   "metadata": {},
   "outputs": [
    {
     "data": {
      "text/html": [
       "<div>\n",
       "<style scoped>\n",
       "    .dataframe tbody tr th:only-of-type {\n",
       "        vertical-align: middle;\n",
       "    }\n",
       "\n",
       "    .dataframe tbody tr th {\n",
       "        vertical-align: top;\n",
       "    }\n",
       "\n",
       "    .dataframe thead th {\n",
       "        text-align: right;\n",
       "    }\n",
       "</style>\n",
       "<table border=\"1\" class=\"dataframe\">\n",
       "  <thead>\n",
       "    <tr style=\"text-align: right;\">\n",
       "      <th></th>\n",
       "      <th>family_status</th>\n",
       "      <th>count</th>\n",
       "      <th>sum</th>\n",
       "      <th>ratio</th>\n",
       "    </tr>\n",
       "  </thead>\n",
       "  <tbody>\n",
       "    <tr>\n",
       "      <td>0</td>\n",
       "      <td>женат / замужем</td>\n",
       "      <td>12261</td>\n",
       "      <td>927</td>\n",
       "      <td>7.560558</td>\n",
       "    </tr>\n",
       "    <tr>\n",
       "      <td>1</td>\n",
       "      <td>гражданский брак</td>\n",
       "      <td>4134</td>\n",
       "      <td>385</td>\n",
       "      <td>9.313014</td>\n",
       "    </tr>\n",
       "    <tr>\n",
       "      <td>2</td>\n",
       "      <td>вдовец / вдова</td>\n",
       "      <td>951</td>\n",
       "      <td>63</td>\n",
       "      <td>6.624606</td>\n",
       "    </tr>\n",
       "    <tr>\n",
       "      <td>3</td>\n",
       "      <td>в разводе</td>\n",
       "      <td>1189</td>\n",
       "      <td>84</td>\n",
       "      <td>7.064760</td>\n",
       "    </tr>\n",
       "    <tr>\n",
       "      <td>4</td>\n",
       "      <td>Не женат / не замужем</td>\n",
       "      <td>2796</td>\n",
       "      <td>273</td>\n",
       "      <td>9.763948</td>\n",
       "    </tr>\n",
       "  </tbody>\n",
       "</table>\n",
       "</div>"
      ],
      "text/plain": [
       "           family_status  count  sum     ratio\n",
       "0        женат / замужем  12261  927  7.560558\n",
       "1       гражданский брак   4134  385  9.313014\n",
       "2         вдовец / вдова    951   63  6.624606\n",
       "3              в разводе   1189   84  7.064760\n",
       "4  Не женат / не замужем   2796  273  9.763948"
      ]
     },
     "execution_count": 23,
     "metadata": {},
     "output_type": "execute_result"
    }
   ],
   "source": [
    "# подсчет общего кол-ва заемщиков и заемщиков, которые имели задолженность в группировке по семейному положению\n",
    "family_status_group = df.groupby('family_status_id').agg({'debt': ['count', 'sum']}) \n",
    "family_status_group = pd.DataFrame(family_status_group['debt']) # изменеие структуры данных на датафрейм\n",
    "family_status_group['ratio'] = family_status_group['sum'] / family_status_group['count'] * 100 # расчет доли заемщиков, которые имели задолженность по кредитам\n",
    "family_status_group = family_status_group.merge(dict_family_status, on='family_status_id', how='left')\n",
    "family_status_group[['family_status', 'count', 'sum', 'ratio']]"
   ]
  },
  {
   "cell_type": "markdown",
   "metadata": {},
   "source": [
    "### Вывод"
   ]
  },
  {
   "cell_type": "markdown",
   "metadata": {},
   "source": [
    "Чаще всего имеют задолженности клиенты, не состоявшие в официальном браке. Вероятно, это люди молодого возраста, которые могут иметь невысокий или нестабильный доход.\n",
    "\n",
    "Для банка заемщики в официальном браке или в разводе чуть более надежны среднего показателя в 8%. Скорее всего сюда входят лица средней возрастной категории, имеющие стабильный доход и финансовую поддержку второго супруга.\n",
    "\n",
    "Самые надежные клиенты в статусе \"вдовец/вдова\". Вероятно это люди старшей возрастной категории, которые имеют стабильный доход и финансовую поддержку детей."
   ]
  },
  {
   "cell_type": "markdown",
   "metadata": {},
   "source": [
    "- Есть ли зависимость между уровнем дохода и возвратом кредита в срок?"
   ]
  },
  {
   "cell_type": "code",
   "execution_count": 25,
   "metadata": {},
   "outputs": [
    {
     "data": {
      "text/html": [
       "<div>\n",
       "<style scoped>\n",
       "    .dataframe tbody tr th:only-of-type {\n",
       "        vertical-align: middle;\n",
       "    }\n",
       "\n",
       "    .dataframe tbody tr th {\n",
       "        vertical-align: top;\n",
       "    }\n",
       "\n",
       "    .dataframe thead th {\n",
       "        text-align: right;\n",
       "    }\n",
       "</style>\n",
       "<table border=\"1\" class=\"dataframe\">\n",
       "  <thead>\n",
       "    <tr style=\"text-align: right;\">\n",
       "      <th></th>\n",
       "      <th>count</th>\n",
       "      <th>sum</th>\n",
       "      <th>ratio</th>\n",
       "    </tr>\n",
       "    <tr>\n",
       "      <th>income_group</th>\n",
       "      <th></th>\n",
       "      <th></th>\n",
       "      <th></th>\n",
       "    </tr>\n",
       "  </thead>\n",
       "  <tbody>\n",
       "    <tr>\n",
       "      <td>1</td>\n",
       "      <td>5340</td>\n",
       "      <td>427</td>\n",
       "      <td>7.996255</td>\n",
       "    </tr>\n",
       "    <tr>\n",
       "      <td>2</td>\n",
       "      <td>4377</td>\n",
       "      <td>382</td>\n",
       "      <td>8.727439</td>\n",
       "    </tr>\n",
       "    <tr>\n",
       "      <td>3</td>\n",
       "      <td>6279</td>\n",
       "      <td>542</td>\n",
       "      <td>8.631948</td>\n",
       "    </tr>\n",
       "    <tr>\n",
       "      <td>4</td>\n",
       "      <td>5335</td>\n",
       "      <td>381</td>\n",
       "      <td>7.141518</td>\n",
       "    </tr>\n",
       "  </tbody>\n",
       "</table>\n",
       "</div>"
      ],
      "text/plain": [
       "              count  sum     ratio\n",
       "income_group                      \n",
       "1              5340  427  7.996255\n",
       "2              4377  382  8.727439\n",
       "3              6279  542  8.631948\n",
       "4              5335  381  7.141518"
      ]
     },
     "execution_count": 25,
     "metadata": {},
     "output_type": "execute_result"
    }
   ],
   "source": [
    "# подсчет общего кол-ва заемщиков и заемщиков, которые имели задолженность в группировке по уровню дохода\n",
    "income_group = df.groupby('income_group').agg({'debt': ['count', 'sum']}) \n",
    "income_group = pd.DataFrame(income_group['debt']) # изменеие структуры данных на датафрейм\n",
    "income_group['ratio'] = income_group['sum'] / income_group['count'] * 100 # расчет доли заемщиков, которые имели задолженность по кредитам\n",
    "income_group"
   ]
  },
  {
   "cell_type": "markdown",
   "metadata": {},
   "source": [
    "### Вывод"
   ]
  },
  {
   "cell_type": "markdown",
   "metadata": {},
   "source": [
    "Доход свыше 195 тыс руб. уменьшает риск возникновения задолженности до 7%.\n",
    "\n",
    "В средней гуппе риска находятся заемщики, доход которых ниже 107 тыс руб. Вероятно это объясняется небольшой суммой кредита.\n",
    "\n",
    "Клиенты среднего уровня дохода чаще всего имеют задолженности перед банком, т.к. чаще берут большие кредиты, например, на покупку недвижимости или предметы роскоши (дорогие автомобили)."
   ]
  },
  {
   "cell_type": "markdown",
   "metadata": {},
   "source": [
    "- Как разные цели кредита влияют на его возврат в срок?"
   ]
  },
  {
   "cell_type": "code",
   "execution_count": 27,
   "metadata": {},
   "outputs": [
    {
     "data": {
      "text/html": [
       "<div>\n",
       "<style scoped>\n",
       "    .dataframe tbody tr th:only-of-type {\n",
       "        vertical-align: middle;\n",
       "    }\n",
       "\n",
       "    .dataframe tbody tr th {\n",
       "        vertical-align: top;\n",
       "    }\n",
       "\n",
       "    .dataframe thead th {\n",
       "        text-align: right;\n",
       "    }\n",
       "</style>\n",
       "<table border=\"1\" class=\"dataframe\">\n",
       "  <thead>\n",
       "    <tr style=\"text-align: right;\">\n",
       "      <th></th>\n",
       "      <th>count</th>\n",
       "      <th>sum</th>\n",
       "      <th>ratio</th>\n",
       "    </tr>\n",
       "    <tr>\n",
       "      <th>purpose</th>\n",
       "      <th></th>\n",
       "      <th></th>\n",
       "      <th></th>\n",
       "    </tr>\n",
       "  </thead>\n",
       "  <tbody>\n",
       "    <tr>\n",
       "      <td>покупка автомобиля</td>\n",
       "      <td>4279</td>\n",
       "      <td>400</td>\n",
       "      <td>9.347978</td>\n",
       "    </tr>\n",
       "    <tr>\n",
       "      <td>покупка или реконструкция коммерческой недвижимости</td>\n",
       "      <td>1303</td>\n",
       "      <td>98</td>\n",
       "      <td>7.521105</td>\n",
       "    </tr>\n",
       "    <tr>\n",
       "      <td>покупка или строительство жилой недвижимости</td>\n",
       "      <td>8844</td>\n",
       "      <td>647</td>\n",
       "      <td>7.315694</td>\n",
       "    </tr>\n",
       "    <tr>\n",
       "      <td>получение образования</td>\n",
       "      <td>3988</td>\n",
       "      <td>369</td>\n",
       "      <td>9.252758</td>\n",
       "    </tr>\n",
       "    <tr>\n",
       "      <td>ремонт жилья</td>\n",
       "      <td>604</td>\n",
       "      <td>35</td>\n",
       "      <td>5.794702</td>\n",
       "    </tr>\n",
       "    <tr>\n",
       "      <td>свадьба</td>\n",
       "      <td>2313</td>\n",
       "      <td>183</td>\n",
       "      <td>7.911803</td>\n",
       "    </tr>\n",
       "  </tbody>\n",
       "</table>\n",
       "</div>"
      ],
      "text/plain": [
       "                                                    count  sum     ratio\n",
       "purpose                                                                 \n",
       "покупка автомобиля                                   4279  400  9.347978\n",
       "покупка или реконструкция коммерческой недвижим...   1303   98  7.521105\n",
       "покупка или строительство жилой недвижимости         8844  647  7.315694\n",
       "получение образования                                3988  369  9.252758\n",
       "ремонт жилья                                          604   35  5.794702\n",
       "свадьба                                              2313  183  7.911803"
      ]
     },
     "execution_count": 27,
     "metadata": {},
     "output_type": "execute_result"
    }
   ],
   "source": [
    "# подсчет общего кол-ва заемщиков и заемщиков, которые имели задолженность в зависимости от цели кредита\n",
    "purose_group = df.groupby('purpose').agg({'debt': ['count', 'sum']}) \n",
    "purose_group = pd.DataFrame(purose_group['debt']) # изменеие структуры данных на датафрейм\n",
    "purose_group['ratio'] = purose_group['sum'] / purose_group['count'] * 100 # расчет доли заемщиков, которые имели задолженность по кредитам\n",
    "purose_group"
   ]
  },
  {
   "cell_type": "markdown",
   "metadata": {},
   "source": [
    "### Вывод"
   ]
  },
  {
   "cell_type": "markdown",
   "metadata": {},
   "source": [
    "Наиболее рискованно для банка выдавать кредит на покупку автомобиля и получение образования. Ведь автомобиль может сломаться или попасть в аварию, что снизит платежеспособность клиента, или быть угнан. Так же цель кредита \"получение образования\" предполагает, что заемщик не сможет работать полноценно, т.к. не имеет профессии и времени на работу.\n",
    "\n",
    "Кредит на ремонт жилья самый надежный. Скорее всего ввиду небольшой суммы займа.\n",
    "\n",
    "В средней группе риска кредиты на приобретение недвижимости и проведение свадьбы. Покупка коммерческой недвижимости предполагает получение дохода от ее использования, что увеличивает платежеспособность клиента. Свадьба и покупка собственного жилья - начало семейной жизни. Как показал анализ зависимости семейного положения и задолженностей, семейные люди достаточно платежеспособны."
   ]
  },
  {
   "cell_type": "markdown",
   "metadata": {},
   "source": [
    "### Шаг 4. Общий вывод"
   ]
  },
  {
   "cell_type": "markdown",
   "metadata": {},
   "source": [
    "Был проведен первичный анализ исходных данных, их предобработка, а затем исследование.\n",
    "\n",
    "В информации о стаже работы и уровне дохода найдены отсутствующие значения. Для их заменены выбраны медианы в зависимости от типа занятости клиента, т.к. среднее арифметическое имеет значительное смещение относительно середины, а доход напрямую зависит от типа занятости.\n",
    "\n",
    "Так же в данных о стаже работы встречаются отрицательные и аномально большие значения и приведены к одной единице измерения. Такие данные могли получиться из-за особенностей расчета в разных источниках данных: \n",
    "- аномально большое значение является стажем работы в часах, а не в днях;\n",
    "- отрицательное значение - расчет стажа относительно текущей даты.\n",
    "\n",
    "В поле о наличии детей обнаружены некорректные и аномальные значения (-1 и 20). Их можно было заменить на среднее или медианное значение, но т.к. ошибочные данные составляют менее 0,5% от всего набора данных, то были удалены без искажения статистики.\n",
    "\n",
    "В наборе данных обнаружен 71 дубликат. Возможно они возникли при консолидации данных из разных источников или из-за технического сбоя при выгрузке.\n",
    "\n",
    "Для категоризации клиентов по уровню дохода данные были разделены на 4 группы в соответствии с 0.25, 0.5, 0.75 квантиялми. Таким образом:\n",
    "- 1 группа - доход ниже 107 тыс руб\n",
    "- 2 группа - доход от 107 тыс руб до 142 тыс руб\n",
    "- 3 группа - доход от 142 тыс руб до 195 тыс руб\n",
    "- 4 группа - доход выше 195 тыс руб\n",
    "\n",
    "В результате исследования получены следующие выводы:\n",
    "\n",
    "Наиболее надежны для банка клиенты, у которых нет детей. Заемщики с тремя детьми находятся в средней группе риска. Возможно, это связано со льготами, которые получают многодетные семьи. В остальных случаях риск возникновения задолженности перед банком выше 9,2%.\n",
    "\n",
    "Чаще всего имеют задолженности клиенты, не состоявшие в официальном браке. Вероятно, это люди молодого возраста, которые могут иметь невысокий или нестабильный доход.\n",
    "\n",
    "Для банка заемщики в официальном браке или в разводе чуть более надежны среднего показателя в 8%. Скорее всего сюда входят лица средней возрастной категории, имеющие стабильный доход и финансовую поддержку второго супруга.\n",
    "\n",
    "Самые надежные клиенты в статусе \"вдовец/вдова\". Вероятно это люди старшей возрастной категории, которые имеют стабильный доход и финансовую поддержку детей.\n",
    "\n",
    "Доход свыше 195 тыс руб. уменьшает риск возникновения задолженности до 7%.\n",
    "\n",
    "В средней гуппе риска находятся заемщики, доход которых ниже 107 тыс руб. Вероятно это объясняется небольшой суммой кредита.\n",
    "\n",
    "Клиенты среднего уровня дохода чаще всего имеют задолженности перед банком, т.к. чаще берут большие кредиты, например, на покупку недвижимости или предметы роскоши (дорогие автомобили).\n",
    "\n",
    "Наиболее рискованно для банка выдавать кредит на покупку автомобиля и получение образования. Ведь автомобиль может сломаться или попасть в аварию, что снизит платежеспособность клиента. Так же цель кредита \"получение образования\" предполагает, что заемщик не сможет работать полноценно, т.к. не имеет профессии и времени на работу. \n",
    "\n",
    "Кредит на ремонт жилья самый надежный. Скорее всего ввиду небольшой суммы займа.\n",
    "\n",
    "В средней группе риска кредиты на приобретение недвижимости и проведение свадьбы. Покупка коммерческой недвижимости предполагает получение дохода от ее использования, что увеличивает платежеспособность клиента. Свадьба и покупка собственного жилья - начало семейной жизни. Как показал анализ зависимости семейного положения и задолженностей, семейные люди достаточно платежеспособны.\n",
    "\n",
    "Примерно в 8% случаев клиенты не возвращают кредит в срок. Заемщики, берущие кредит на покупку автомобиля или получение образования, не состовшие в официальном браке, в группе повышенного риска по возникновению задолженностей. Самые надежные клиенты состоят в браке, имеют доход выше 195000 руб, берут кредит на покупку или ремонт жилья или приобретают коммерческую недвижимость."
   ]
  }
 ],
 "metadata": {
  "kernelspec": {
   "display_name": "Python 3",
   "language": "python",
   "name": "python3"
  },
  "language_info": {
   "codemirror_mode": {
    "name": "ipython",
    "version": 3
   },
   "file_extension": ".py",
   "mimetype": "text/x-python",
   "name": "python",
   "nbconvert_exporter": "python",
   "pygments_lexer": "ipython3",
   "version": "3.8.5"
  },
  "toc": {
   "base_numbering": 1,
   "nav_menu": {},
   "number_sections": true,
   "sideBar": true,
   "skip_h1_title": true,
   "title_cell": "Table of Contents",
   "title_sidebar": "Contents",
   "toc_cell": false,
   "toc_position": {},
   "toc_section_display": true,
   "toc_window_display": false
  }
 },
 "nbformat": 4,
 "nbformat_minor": 2
}
